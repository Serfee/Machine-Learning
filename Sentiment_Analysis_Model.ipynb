{
  "cells": [
    {
      "cell_type": "code",
      "execution_count": null,
      "metadata": {
        "id": "qEOQ9Y_1zTSQ",
        "colab": {
          "base_uri": "https://localhost:8080/"
        },
        "outputId": "2fbc063b-c60d-4c08-90f4-cf90ff58ff6e"
      },
      "outputs": [
        {
          "output_type": "stream",
          "name": "stdout",
          "text": [
            "\u001b[2K     \u001b[90m━━━━━━━━━━━━━━━━━━━━━━━━━━━━━━━━━━━━━━━\u001b[0m \u001b[32m474.6/474.6 kB\u001b[0m \u001b[31m9.5 MB/s\u001b[0m eta \u001b[36m0:00:00\u001b[0m\n",
            "\u001b[2K     \u001b[90m━━━━━━━━━━━━━━━━━━━━━━━━━━━━━━━━━━━━━━\u001b[0m \u001b[32m110.5/110.5 kB\u001b[0m \u001b[31m11.2 MB/s\u001b[0m eta \u001b[36m0:00:00\u001b[0m\n",
            "\u001b[2K     \u001b[90m━━━━━━━━━━━━━━━━━━━━━━━━━━━━━━━━━━━━━━\u001b[0m \u001b[32m212.5/212.5 kB\u001b[0m \u001b[31m22.8 MB/s\u001b[0m eta \u001b[36m0:00:00\u001b[0m\n",
            "\u001b[2K     \u001b[90m━━━━━━━━━━━━━━━━━━━━━━━━━━━━━━━━━━━━━━\u001b[0m \u001b[32m134.3/134.3 kB\u001b[0m \u001b[31m12.7 MB/s\u001b[0m eta \u001b[36m0:00:00\u001b[0m\n",
            "\u001b[2K     \u001b[90m━━━━━━━━━━━━━━━━━━━━━━━━━━━━━━━━━━━━━━━━\u001b[0m \u001b[32m1.0/1.0 MB\u001b[0m \u001b[31m27.7 MB/s\u001b[0m eta \u001b[36m0:00:00\u001b[0m\n",
            "\u001b[2K     \u001b[90m━━━━━━━━━━━━━━━━━━━━━━━━━━━━━━━━━━━━━━\u001b[0m \u001b[32m236.8/236.8 kB\u001b[0m \u001b[31m20.3 MB/s\u001b[0m eta \u001b[36m0:00:00\u001b[0m\n",
            "\u001b[2K     \u001b[90m━━━━━━━━━━━━━━━━━━━━━━━━━━━━━━━━━━━━━━\u001b[0m \u001b[32m114.5/114.5 kB\u001b[0m \u001b[31m10.5 MB/s\u001b[0m eta \u001b[36m0:00:00\u001b[0m\n",
            "\u001b[2K     \u001b[90m━━━━━━━━━━━━━━━━━━━━━━━━━━━━━━━━━━━━━━\u001b[0m \u001b[32m268.8/268.8 kB\u001b[0m \u001b[31m10.3 MB/s\u001b[0m eta \u001b[36m0:00:00\u001b[0m\n",
            "\u001b[2K     \u001b[90m━━━━━━━━━━━━━━━━━━━━━━━━━━━━━━━━━━━━━━\u001b[0m \u001b[32m149.6/149.6 kB\u001b[0m \u001b[31m18.0 MB/s\u001b[0m eta \u001b[36m0:00:00\u001b[0m\n",
            "\u001b[2K     \u001b[90m━━━━━━━━━━━━━━━━━━━━━━━━━━━━━━━━━━━━━━━━\u001b[0m \u001b[32m6.0/6.0 MB\u001b[0m \u001b[31m42.3 MB/s\u001b[0m eta \u001b[36m0:00:00\u001b[0m\n",
            "\u001b[?25h"
          ]
        }
      ],
      "source": [
        "!pip install -q datasets\n",
        "!pip install -q tensorflow_text"
      ]
    },
    {
      "cell_type": "markdown",
      "metadata": {
        "id": "vsHK9LawGHmH"
      },
      "source": [
        "#Import data from google drive"
      ]
    },
    {
      "cell_type": "code",
      "execution_count": null,
      "metadata": {
        "id": "rZ4gh2JCJfR6"
      },
      "outputs": [],
      "source": [
        "# Import PyDrive and associated libraries.\n",
        "# This only needs to be done once per notebook.\n",
        "from pydrive.auth import GoogleAuth\n",
        "from pydrive.drive import GoogleDrive\n",
        "from google.colab import auth\n",
        "from oauth2client.client import GoogleCredentials\n",
        "\n",
        "# Authenticate and create the PyDrive client.\n",
        "# This only needs to be done once per notebook.\n",
        "auth.authenticate_user()\n",
        "gauth = GoogleAuth()\n",
        "gauth.credentials = GoogleCredentials.get_application_default()\n",
        "drive = GoogleDrive(gauth)\n",
        "\n",
        "file_ids = [\"1yWbvg1gVbSYvlFXahJkeBjHtfNAfwfJG\", \n",
        "            \"1mxU7-H1ROaobkQ8cWqWBSewldisriUfk\",\n",
        "            \"1UjTKjVR4WcsPJzVdNYsdzDGl5wpDoPVE\"] # We will get these ids from Balancing_Dataset.ipynb\n",
        "\n",
        "\n",
        "for id in range(len(file_ids)):\n",
        "  downloaded = drive.CreateFile({'id': file_ids[id]})\n",
        "  if id == 0:\n",
        "    downloaded.GetContentFile('/content/train_balanced.csv')  \n",
        "  if id == 1:\n",
        "    downloaded.GetContentFile('/content/val_balanced.csv')  \n",
        "  if id == 2:\n",
        "    downloaded.GetContentFile('/content/test_balanced.csv')  "
      ]
    },
    {
      "cell_type": "markdown",
      "metadata": {
        "id": "u7RrKbECLZ76"
      },
      "source": [
        "# See Data"
      ]
    },
    {
      "cell_type": "code",
      "execution_count": null,
      "metadata": {
        "id": "Jd0ug1WWLer6"
      },
      "outputs": [],
      "source": [
        "import pandas as pd\n",
        "#Display all column\n",
        "pd.set_option('display.max_columns', None)"
      ]
    },
    {
      "cell_type": "code",
      "execution_count": null,
      "metadata": {
        "colab": {
          "base_uri": "https://localhost:8080/"
        },
        "id": "lhXZ-BLqG03H",
        "outputId": "f651e5f6-8a7c-427d-aec8-44c09646d8f1"
      },
      "outputs": [
        {
          "output_type": "execute_result",
          "data": {
            "text/plain": [
              "label\n",
              "0    6416\n",
              "1    5410\n",
              "2    6416\n",
              "dtype: int64"
            ]
          },
          "metadata": {},
          "execution_count": 4
        }
      ],
      "source": [
        "data = pd.read_csv('train_balanced.csv', sep=',')\n",
        "df_train = pd.DataFrame(data)\n",
        "df_train.groupby('label').size()"
      ]
    },
    {
      "cell_type": "code",
      "execution_count": null,
      "metadata": {
        "colab": {
          "base_uri": "https://localhost:8080/"
        },
        "id": "RpSM6XfFLoHX",
        "outputId": "0024a3ec-9eda-46f6-e340-b15f3dc8bff8"
      },
      "outputs": [
        {
          "output_type": "execute_result",
          "data": {
            "text/plain": [
              "label\n",
              "0    735\n",
              "1    735\n",
              "2    735\n",
              "dtype: int64"
            ]
          },
          "metadata": {},
          "execution_count": 5
        }
      ],
      "source": [
        "data = pd.read_csv('val_balanced.csv', sep=',')\n",
        "df_val = pd.DataFrame(data)\n",
        "df_val.groupby('label').size()"
      ]
    },
    {
      "cell_type": "code",
      "execution_count": null,
      "metadata": {
        "colab": {
          "base_uri": "https://localhost:8080/"
        },
        "id": "2QYC83rSTSkc",
        "outputId": "7a726724-c854-49ae-ded1-543059f689f9"
      },
      "outputs": [
        {
          "output_type": "execute_result",
          "data": {
            "text/plain": [
              "label\n",
              "0    208\n",
              "1     88\n",
              "2    204\n",
              "dtype: int64"
            ]
          },
          "metadata": {},
          "execution_count": 6
        }
      ],
      "source": [
        "data = pd.read_csv('test_balanced.csv', sep=',')\n",
        "df_test = pd.DataFrame(data)\n",
        "df_test.groupby('label').size()"
      ]
    },
    {
      "cell_type": "markdown",
      "metadata": {
        "id": "XZtTz2fYW-cQ"
      },
      "source": [
        "### Merge Dataset"
      ]
    },
    {
      "cell_type": "code",
      "execution_count": null,
      "metadata": {
        "colab": {
          "base_uri": "https://localhost:8080/"
        },
        "id": "FDaidpg9VO2H",
        "outputId": "8cdbef71-6a14-4748-c46d-4390b70b6834"
      },
      "outputs": [
        {
          "output_type": "execute_result",
          "data": {
            "text/plain": [
              "(20947, 3)"
            ]
          },
          "metadata": {},
          "execution_count": 7
        }
      ],
      "source": [
        "#Merge the training, validation, and test data\n",
        "merged = pd.concat([df_train, df_val, df_test])\n",
        "merged.shape"
      ]
    },
    {
      "cell_type": "code",
      "execution_count": null,
      "metadata": {
        "colab": {
          "base_uri": "https://localhost:8080/"
        },
        "id": "9te5KAvBWqpb",
        "outputId": "03e7a37f-3353-44bc-a6f9-285103eb19d1"
      },
      "outputs": [
        {
          "output_type": "stream",
          "name": "stdout",
          "text": [
            "(15710, 3), (2618, 3), (2619, 3)\n"
          ]
        }
      ],
      "source": [
        "#Split the data\n",
        "\n",
        "from sklearn.model_selection import train_test_split\n",
        "\n",
        "df_train, df_val = train_test_split(merged, train_size=0.75, stratify=merged['label'])\n",
        "df_val, df_test = train_test_split(df_val, test_size=0.5, stratify=df_val['label'])\n",
        "\n",
        "print(\"{}, {}, {}\".format(df_train.shape, df_val.shape, df_test.shape))"
      ]
    },
    {
      "cell_type": "code",
      "execution_count": null,
      "metadata": {
        "colab": {
          "base_uri": "https://localhost:8080/",
          "height": 423
        },
        "id": "V74DMr5QN7Ir",
        "outputId": "c91ef1bd-912b-4d3f-cd3f-b8d0beeb3b47"
      },
      "outputs": [
        {
          "output_type": "execute_result",
          "data": {
            "text/plain": [
              "                                                    text  label  \\\n",
              "1771               serius free ong aku di jember soalnya      1   \n",
              "12752  Selamat siang wargauroboyo Beberapa waktu yang...      1   \n",
              "1355   restoran yang menyajikan hidangan akulturasi b...      0   \n",
              "13922  2nd giveaway aku mau adain giveaway dalam rang...      1   \n",
              "5083   bu susi karena pengalaman usaha perikanan jadi...      0   \n",
              "...                                                  ...    ...   \n",
              "10244  padahal baru beli paket 9 gb dan masih 3 gb , ...      2   \n",
              "6236   terima kasih pak untuk kinerja bapak yang begi...      0   \n",
              "1689                                  ini kamu dom mana       1   \n",
              "10114  amin . salut buat para dokter yang telah membe...      0   \n",
              "5471   masakan padang ini menurut saya rasanya sama s...      0   \n",
              "\n",
              "                                              text_clean  \n",
              "1771                  serius free ong aku di jember soal  \n",
              "12752  selamat siang wargauroboyo beberapa waktu yang...  \n",
              "1355   restoran yang saji hidang akulturasi belanda d...  \n",
              "13922  2nd giveaway aku mau adain giveaway dalam rang...  \n",
              "5083   bu sus karena alam usaha ikan jadi tahu masala...  \n",
              "...                                                  ...  \n",
              "10244  padahal baru beli paket 9 gb dan masih 3 gb ko...  \n",
              "6236   terima kasih pak untuk kerja bapak yang begitu...  \n",
              "1689                                   ini kamu dom mana  \n",
              "10114  amin salut buat para dokter yang telah beri ba...  \n",
              "5471   masakan padang ini turut saya rasa sama sepert...  \n",
              "\n",
              "[15710 rows x 3 columns]"
            ],
            "text/html": [
              "\n",
              "  <div id=\"df-4b927591-d0dc-4808-b23c-165133d2989c\">\n",
              "    <div class=\"colab-df-container\">\n",
              "      <div>\n",
              "<style scoped>\n",
              "    .dataframe tbody tr th:only-of-type {\n",
              "        vertical-align: middle;\n",
              "    }\n",
              "\n",
              "    .dataframe tbody tr th {\n",
              "        vertical-align: top;\n",
              "    }\n",
              "\n",
              "    .dataframe thead th {\n",
              "        text-align: right;\n",
              "    }\n",
              "</style>\n",
              "<table border=\"1\" class=\"dataframe\">\n",
              "  <thead>\n",
              "    <tr style=\"text-align: right;\">\n",
              "      <th></th>\n",
              "      <th>text</th>\n",
              "      <th>label</th>\n",
              "      <th>text_clean</th>\n",
              "    </tr>\n",
              "  </thead>\n",
              "  <tbody>\n",
              "    <tr>\n",
              "      <th>1771</th>\n",
              "      <td>serius free ong aku di jember soalnya</td>\n",
              "      <td>1</td>\n",
              "      <td>serius free ong aku di jember soal</td>\n",
              "    </tr>\n",
              "    <tr>\n",
              "      <th>12752</th>\n",
              "      <td>Selamat siang wargauroboyo Beberapa waktu yang...</td>\n",
              "      <td>1</td>\n",
              "      <td>selamat siang wargauroboyo beberapa waktu yang...</td>\n",
              "    </tr>\n",
              "    <tr>\n",
              "      <th>1355</th>\n",
              "      <td>restoran yang menyajikan hidangan akulturasi b...</td>\n",
              "      <td>0</td>\n",
              "      <td>restoran yang saji hidang akulturasi belanda d...</td>\n",
              "    </tr>\n",
              "    <tr>\n",
              "      <th>13922</th>\n",
              "      <td>2nd giveaway aku mau adain giveaway dalam rang...</td>\n",
              "      <td>1</td>\n",
              "      <td>2nd giveaway aku mau adain giveaway dalam rang...</td>\n",
              "    </tr>\n",
              "    <tr>\n",
              "      <th>5083</th>\n",
              "      <td>bu susi karena pengalaman usaha perikanan jadi...</td>\n",
              "      <td>0</td>\n",
              "      <td>bu sus karena alam usaha ikan jadi tahu masala...</td>\n",
              "    </tr>\n",
              "    <tr>\n",
              "      <th>...</th>\n",
              "      <td>...</td>\n",
              "      <td>...</td>\n",
              "      <td>...</td>\n",
              "    </tr>\n",
              "    <tr>\n",
              "      <th>10244</th>\n",
              "      <td>padahal baru beli paket 9 gb dan masih 3 gb , ...</td>\n",
              "      <td>2</td>\n",
              "      <td>padahal baru beli paket 9 gb dan masih 3 gb ko...</td>\n",
              "    </tr>\n",
              "    <tr>\n",
              "      <th>6236</th>\n",
              "      <td>terima kasih pak untuk kinerja bapak yang begi...</td>\n",
              "      <td>0</td>\n",
              "      <td>terima kasih pak untuk kerja bapak yang begitu...</td>\n",
              "    </tr>\n",
              "    <tr>\n",
              "      <th>1689</th>\n",
              "      <td>ini kamu dom mana</td>\n",
              "      <td>1</td>\n",
              "      <td>ini kamu dom mana</td>\n",
              "    </tr>\n",
              "    <tr>\n",
              "      <th>10114</th>\n",
              "      <td>amin . salut buat para dokter yang telah membe...</td>\n",
              "      <td>0</td>\n",
              "      <td>amin salut buat para dokter yang telah beri ba...</td>\n",
              "    </tr>\n",
              "    <tr>\n",
              "      <th>5471</th>\n",
              "      <td>masakan padang ini menurut saya rasanya sama s...</td>\n",
              "      <td>0</td>\n",
              "      <td>masakan padang ini turut saya rasa sama sepert...</td>\n",
              "    </tr>\n",
              "  </tbody>\n",
              "</table>\n",
              "<p>15710 rows × 3 columns</p>\n",
              "</div>\n",
              "      <button class=\"colab-df-convert\" onclick=\"convertToInteractive('df-4b927591-d0dc-4808-b23c-165133d2989c')\"\n",
              "              title=\"Convert this dataframe to an interactive table.\"\n",
              "              style=\"display:none;\">\n",
              "        \n",
              "  <svg xmlns=\"http://www.w3.org/2000/svg\" height=\"24px\"viewBox=\"0 0 24 24\"\n",
              "       width=\"24px\">\n",
              "    <path d=\"M0 0h24v24H0V0z\" fill=\"none\"/>\n",
              "    <path d=\"M18.56 5.44l.94 2.06.94-2.06 2.06-.94-2.06-.94-.94-2.06-.94 2.06-2.06.94zm-11 1L8.5 8.5l.94-2.06 2.06-.94-2.06-.94L8.5 2.5l-.94 2.06-2.06.94zm10 10l.94 2.06.94-2.06 2.06-.94-2.06-.94-.94-2.06-.94 2.06-2.06.94z\"/><path d=\"M17.41 7.96l-1.37-1.37c-.4-.4-.92-.59-1.43-.59-.52 0-1.04.2-1.43.59L10.3 9.45l-7.72 7.72c-.78.78-.78 2.05 0 2.83L4 21.41c.39.39.9.59 1.41.59.51 0 1.02-.2 1.41-.59l7.78-7.78 2.81-2.81c.8-.78.8-2.07 0-2.86zM5.41 20L4 18.59l7.72-7.72 1.47 1.35L5.41 20z\"/>\n",
              "  </svg>\n",
              "      </button>\n",
              "      \n",
              "  <style>\n",
              "    .colab-df-container {\n",
              "      display:flex;\n",
              "      flex-wrap:wrap;\n",
              "      gap: 12px;\n",
              "    }\n",
              "\n",
              "    .colab-df-convert {\n",
              "      background-color: #E8F0FE;\n",
              "      border: none;\n",
              "      border-radius: 50%;\n",
              "      cursor: pointer;\n",
              "      display: none;\n",
              "      fill: #1967D2;\n",
              "      height: 32px;\n",
              "      padding: 0 0 0 0;\n",
              "      width: 32px;\n",
              "    }\n",
              "\n",
              "    .colab-df-convert:hover {\n",
              "      background-color: #E2EBFA;\n",
              "      box-shadow: 0px 1px 2px rgba(60, 64, 67, 0.3), 0px 1px 3px 1px rgba(60, 64, 67, 0.15);\n",
              "      fill: #174EA6;\n",
              "    }\n",
              "\n",
              "    [theme=dark] .colab-df-convert {\n",
              "      background-color: #3B4455;\n",
              "      fill: #D2E3FC;\n",
              "    }\n",
              "\n",
              "    [theme=dark] .colab-df-convert:hover {\n",
              "      background-color: #434B5C;\n",
              "      box-shadow: 0px 1px 3px 1px rgba(0, 0, 0, 0.15);\n",
              "      filter: drop-shadow(0px 1px 2px rgba(0, 0, 0, 0.3));\n",
              "      fill: #FFFFFF;\n",
              "    }\n",
              "  </style>\n",
              "\n",
              "      <script>\n",
              "        const buttonEl =\n",
              "          document.querySelector('#df-4b927591-d0dc-4808-b23c-165133d2989c button.colab-df-convert');\n",
              "        buttonEl.style.display =\n",
              "          google.colab.kernel.accessAllowed ? 'block' : 'none';\n",
              "\n",
              "        async function convertToInteractive(key) {\n",
              "          const element = document.querySelector('#df-4b927591-d0dc-4808-b23c-165133d2989c');\n",
              "          const dataTable =\n",
              "            await google.colab.kernel.invokeFunction('convertToInteractive',\n",
              "                                                     [key], {});\n",
              "          if (!dataTable) return;\n",
              "\n",
              "          const docLinkHtml = 'Like what you see? Visit the ' +\n",
              "            '<a target=\"_blank\" href=https://colab.research.google.com/notebooks/data_table.ipynb>data table notebook</a>'\n",
              "            + ' to learn more about interactive tables.';\n",
              "          element.innerHTML = '';\n",
              "          dataTable['output_type'] = 'display_data';\n",
              "          await google.colab.output.renderOutput(dataTable, element);\n",
              "          const docLink = document.createElement('div');\n",
              "          docLink.innerHTML = docLinkHtml;\n",
              "          element.appendChild(docLink);\n",
              "        }\n",
              "      </script>\n",
              "    </div>\n",
              "  </div>\n",
              "  "
            ]
          },
          "metadata": {},
          "execution_count": 12
        }
      ],
      "source": [
        "df_train"
      ]
    },
    {
      "cell_type": "markdown",
      "metadata": {
        "id": "LUDBzjqXVRoQ"
      },
      "source": [
        "# NNLM Transfer Learning"
      ]
    },
    {
      "cell_type": "code",
      "execution_count": null,
      "metadata": {
        "id": "GbATv50tLFj8"
      },
      "outputs": [],
      "source": [
        "import numpy as np"
      ]
    },
    {
      "cell_type": "code",
      "execution_count": null,
      "metadata": {
        "id": "53lIbwYv35bZ"
      },
      "outputs": [],
      "source": [
        "#Fill the missing value\n",
        "\n",
        "x_train = df_train['text_clean']\n",
        "# x_train = df_train['text']\n",
        "y_train = df_train['label']\n",
        "\n",
        "# x_val = df_val['text_clean']\n",
        "x_val = df_val['text']\n",
        "y_val = df_val['label']\n",
        "\n",
        "# x_test = df_test['text_clean']\n",
        "x_test = df_test['text']\n",
        "y_test = df_test['label']\n",
        "\n",
        "x_train.fillna(value='', inplace=True)\n",
        "x_val.fillna(value='', inplace=True)\n",
        "x_test.fillna(value='', inplace=True)"
      ]
    },
    {
      "cell_type": "code",
      "execution_count": null,
      "metadata": {
        "colab": {
          "base_uri": "https://localhost:8080/"
        },
        "id": "lhv5U_a5J2QC",
        "outputId": "06d4a15f-50fa-4f2b-b465-098e39e238b7"
      },
      "outputs": [
        {
          "output_type": "execute_result",
          "data": {
            "text/plain": [
              "((15710,), (15710,))"
            ]
          },
          "metadata": {},
          "execution_count": 15
        }
      ],
      "source": [
        "#See the datatrain shape\n",
        "(x_train.shape, y_train.shape)"
      ]
    },
    {
      "cell_type": "code",
      "execution_count": null,
      "metadata": {
        "id": "nOgoxFXbCJLA"
      },
      "outputs": [],
      "source": [
        "batch_size = 64"
      ]
    },
    {
      "cell_type": "code",
      "execution_count": null,
      "metadata": {
        "id": "2xr1Wv7bVEkP"
      },
      "outputs": [],
      "source": [
        "import tensorflow as tf\n",
        "\n",
        "#Even up the data length\n",
        "\n",
        "train_dataset = (\n",
        "    tf.data.Dataset\n",
        "    .from_tensor_slices((x_train, y_train))\n",
        "    .shuffle(1000)\n",
        "    .batch(batch_size).prefetch(tf.data.AUTOTUNE)\n",
        ")\n",
        "\n",
        "val_dataset = (\n",
        "    tf.data.Dataset\n",
        "    .from_tensor_slices((x_val, y_val))\n",
        "    .shuffle(1000)\n",
        "    .batch(batch_size).prefetch(tf.data.AUTOTUNE)\n",
        ")\n",
        "\n",
        "test_dataset = (\n",
        "    tf.data.Dataset\n",
        "    .from_tensor_slices((x_test, y_test))\n",
        "    # .shuffle(1000)\n",
        "    .batch(batch_size).prefetch(tf.data.AUTOTUNE)\n",
        ")"
      ]
    },
    {
      "cell_type": "code",
      "execution_count": null,
      "metadata": {
        "colab": {
          "base_uri": "https://localhost:8080/"
        },
        "id": "lE7_BltOw_xl",
        "outputId": "0d78bc62-7b4c-4c07-d36a-8190d12ec26f"
      },
      "outputs": [
        {
          "output_type": "stream",
          "name": "stdout",
          "text": [
            "x[0].ndim:  1\n",
            "x[0].shape:  (64,)\n",
            "x[1].shape:  (64,)\n",
            "x[0].ndim:  1\n",
            "x[0].shape:  (64,)\n",
            "x[1].shape:  (64,)\n"
          ]
        }
      ],
      "source": [
        "#See Dataset Length\n",
        "\n",
        "for i,x in enumerate(train_dataset):\n",
        "  print(\"x[0].ndim: \", x[0].ndim)\n",
        "  print(\"x[0].shape: \", x[0].shape)\n",
        "  print(\"x[1].shape: \", x[1].shape)\n",
        "  if i==0:\n",
        "    break\n",
        "\n",
        "for i,x in enumerate(test_dataset):\n",
        "  print(\"x[0].ndim: \", x[0].ndim)\n",
        "  print(\"x[0].shape: \", x[0].shape)\n",
        "  print(\"x[1].shape: \", x[1].shape)\n",
        "  if i==0:\n",
        "    break\n"
      ]
    },
    {
      "cell_type": "code",
      "execution_count": null,
      "metadata": {
        "id": "Z7WjbTq1VLYC"
      },
      "outputs": [],
      "source": [
        "import tensorflow_hub as hub\n",
        "from tensorflow.keras import Sequential, layers"
      ]
    },
    {
      "cell_type": "code",
      "execution_count": null,
      "metadata": {
        "id": "YRpS-PWOVQsp"
      },
      "outputs": [],
      "source": [
        "#Call the NNLM model\n",
        "nnlm = \"https://tfhub.dev/google/nnlm-id-dim128-with-normalization/2\"\n",
        "hub_layer = hub.KerasLayer(nnlm, input_shape=[],dtype=tf.string, trainable=True)"
      ]
    },
    {
      "cell_type": "markdown",
      "metadata": {
        "id": "sVgiRaAqcTa4"
      },
      "source": [
        "# Model Building"
      ]
    },
    {
      "cell_type": "code",
      "execution_count": null,
      "metadata": {
        "colab": {
          "base_uri": "https://localhost:8080/"
        },
        "id": "vmFtV0fjcTa4",
        "outputId": "075d1163-d4f3-4ae2-a9f5-eda45540574d"
      },
      "outputs": [
        {
          "output_type": "stream",
          "name": "stdout",
          "text": [
            "Model: \"sequential\"\n",
            "_________________________________________________________________\n",
            " Layer (type)                Output Shape              Param #   \n",
            "=================================================================\n",
            " keras_layer (KerasLayer)    (None, 128)               112461824 \n",
            "                                                                 \n",
            " dropout (Dropout)           (None, 128)               0         \n",
            "                                                                 \n",
            " dense (Dense)               (None, 128)               16512     \n",
            "                                                                 \n",
            " dropout_1 (Dropout)         (None, 128)               0         \n",
            "                                                                 \n",
            " dense_1 (Dense)             (None, 128)               16512     \n",
            "                                                                 \n",
            " dropout_2 (Dropout)         (None, 128)               0         \n",
            "                                                                 \n",
            " dense_2 (Dense)             (None, 32)                4128      \n",
            "                                                                 \n",
            " dropout_3 (Dropout)         (None, 32)                0         \n",
            "                                                                 \n",
            " dense_3 (Dense)             (None, 3)                 99        \n",
            "                                                                 \n",
            "=================================================================\n",
            "Total params: 112,499,075\n",
            "Trainable params: 112,499,075\n",
            "Non-trainable params: 0\n",
            "_________________________________________________________________\n"
          ]
        }
      ],
      "source": [
        "#Create the model\n",
        "model = Sequential([\n",
        "    hub_layer,\n",
        "    layers.Dropout(0.5),\n",
        "    layers.Dense(128),\n",
        "    layers.Dropout(0.5),\n",
        "    layers.Dense(128),\n",
        "    layers.Dropout(0.5),\n",
        "    layers.Dense(32),\n",
        "    layers.Dropout(0.5),\n",
        "\n",
        "    layers.Dense(3, activation='softmax'),\n",
        "])\n",
        "model.compile(optimizer=tf.optimizers.Adam(),loss='sparse_categorical_crossentropy', metrics=['accuracy'])\n",
        "model.summary()"
      ]
    },
    {
      "cell_type": "code",
      "execution_count": null,
      "metadata": {
        "colab": {
          "base_uri": "https://localhost:8080/"
        },
        "id": "kDbQnN2l2mWw",
        "outputId": "4e72e39c-dae6-49b7-e625-55d0e35b8a65"
      },
      "outputs": [
        {
          "output_type": "stream",
          "name": "stdout",
          "text": [
            "Epoch 1/10\n",
            "246/246 [==============================] - 45s 149ms/step - loss: 0.7826 - accuracy: 0.6480 - val_loss: 0.5176 - val_accuracy: 0.7922\n",
            "Epoch 2/10\n",
            "246/246 [==============================] - 16s 64ms/step - loss: 0.5331 - accuracy: 0.7875 - val_loss: 0.4767 - val_accuracy: 0.8052\n",
            "Epoch 3/10\n",
            "246/246 [==============================] - 13s 53ms/step - loss: 0.4244 - accuracy: 0.8376 - val_loss: 0.4956 - val_accuracy: 0.7960\n",
            "Epoch 4/10\n",
            "246/246 [==============================] - 12s 51ms/step - loss: 0.3526 - accuracy: 0.8691 - val_loss: 0.5139 - val_accuracy: 0.7991\n"
          ]
        }
      ],
      "source": [
        "history = model.fit(train_dataset, epochs=10,validation_data=(val_dataset), callbacks=tf.keras.callbacks.EarlyStopping(monitor='val_loss', patience=2))"
      ]
    },
    {
      "cell_type": "code",
      "execution_count": null,
      "metadata": {
        "colab": {
          "base_uri": "https://localhost:8080/",
          "height": 1000
        },
        "id": "VziG9Q_G18UP",
        "outputId": "f520f1ae-189a-4ed8-9f8c-7d8b43f169f9"
      },
      "outputs": [
        {
          "output_type": "display_data",
          "data": {
            "text/plain": [
              "<Figure size 800x800 with 1 Axes>"
            ],
            "image/png": "[encoded data removed]"
          },
          "metadata": {}
        },
        {
          "output_type": "display_data",
          "data": {
            "text/plain": [
              "<Figure size 800x800 with 1 Axes>"
            ],
            "image/png": "[encoded data removed]"
          },
          "metadata": {}
        }
      ],
      "source": [
        "#Visualize the Training & Validation's Accuracy and Loss\n",
        "\n",
        "import matplotlib.pyplot as plt\n",
        "\n",
        "def plot_loss_acc(history):\n",
        "  \n",
        "  acc = history.history['accuracy']\n",
        "  val_acc = history.history['val_accuracy']\n",
        "  loss = history.history['loss']\n",
        "  val_loss = history.history['val_loss']\n",
        "\n",
        "  epochs = range(len(acc))\n",
        "\n",
        "  plt.figure(figsize=(8, 8))\n",
        "  plt.subplot(1, 2, 1)\n",
        "  plt.plot(epochs, acc, label='Training accuracy')\n",
        "  plt.plot(epochs, val_acc, label='Validation accuracy')\n",
        "  plt.legend(loc='upper left')\n",
        "  plt.title('Training and validation accuracy')\n",
        "\n",
        "  plt.figure(figsize=(8, 8))\n",
        "  plt.subplot(1, 2, 2)\n",
        "  plt.plot(epochs, loss, label='Training Loss')\n",
        "  plt.plot(epochs, val_loss, label='Validation Loss')\n",
        "  plt.legend(loc='lower right')\n",
        "  plt.title('Training and validation loss')\n",
        " \n",
        "  plt.show()\n",
        "# Plot training results\n",
        "plot_loss_acc(history)\n",
        "     "
      ]
    },
    {
      "cell_type": "code",
      "execution_count": null,
      "metadata": {
        "colab": {
          "base_uri": "https://localhost:8080/"
        },
        "id": "u3MLEzWwVKmJ",
        "outputId": "0c27b244-c38c-479b-aec6-cf1f747c69aa"
      },
      "outputs": [
        {
          "output_type": "stream",
          "name": "stdout",
          "text": [
            "41/41 - 0s - loss: 0.4596 - accuracy: 0.8209 - 259ms/epoch - 6ms/step\n",
            "Model accuracy:  0.8209240436553955\n"
          ]
        }
      ],
      "source": [
        "#Accuracy test\n",
        "test_loss, test_acc = model.evaluate(test_dataset, verbose=2)\n",
        "print('Model accuracy: ',test_acc)"
      ]
    },
    {
      "cell_type": "code",
      "execution_count": null,
      "metadata": {
        "id": "RSuJRMwMC6ew"
      },
      "outputs": [],
      "source": [
        "sentiment = ['Positive','Neutral','Negative']"
      ]
    },
    {
      "cell_type": "code",
      "execution_count": null,
      "metadata": {
        "colab": {
          "base_uri": "https://localhost:8080/",
          "height": 53
        },
        "id": "TiG_Y7I524dm",
        "outputId": "2154c7ab-4cff-4960-b847-828a8f55d32a"
      },
      "outputs": [
        {
          "output_type": "stream",
          "name": "stdout",
          "text": [
            "1/1 [==============================] - 0s 194ms/step\n"
          ]
        },
        {
          "output_type": "execute_result",
          "data": {
            "text/plain": [
              "'Negative'"
            ],
            "application/vnd.google.colaboratory.intrinsic+json": {
              "type": "string"
            }
          },
          "metadata": {},
          "execution_count": 26
        }
      ],
      "source": [
        "#Sentiment Prediction Test\n",
        "sequence = ['kerjanya bagus tapi lama banget bikin kesel']\n",
        "sentiment[model.predict(sequence).argmax(axis=1)[0]]"
      ]
    },
    {
      "cell_type": "code",
      "execution_count": null,
      "metadata": {
        "colab": {
          "base_uri": "https://localhost:8080/"
        },
        "id": "dxS3ct9hC57a",
        "outputId": "9967f5d1-2605-47c6-f50f-a3239044d6be"
      },
      "outputs": [
        {
          "output_type": "stream",
          "name": "stdout",
          "text": [
            "41/41 [==============================] - 0s 6ms/step\n"
          ]
        }
      ],
      "source": [
        "predictions = model.predict(test_dataset)"
      ]
    },
    {
      "cell_type": "markdown",
      "metadata": {
        "id": "VCU2cD224s4m"
      },
      "source": [
        "Evaluate the Model"
      ]
    },
    {
      "cell_type": "code",
      "execution_count": null,
      "metadata": {
        "colab": {
          "base_uri": "https://localhost:8080/"
        },
        "id": "l0H35R4F4vBm",
        "outputId": "9c12363d-08cd-4ee8-a896-93f4a6398351"
      },
      "outputs": [
        {
          "output_type": "stream",
          "name": "stdout",
          "text": [
            "              precision    recall  f1-score   support\n",
            "\n",
            "    Positive       0.87      0.93      0.90       920\n",
            "     Neutral       0.79      0.76      0.78       779\n",
            "    Negative       0.77      0.75      0.76       920\n",
            "\n",
            "    accuracy                           0.82      2619\n",
            "   macro avg       0.81      0.81      0.81      2619\n",
            "weighted avg       0.81      0.82      0.81      2619\n",
            "\n"
          ]
        }
      ],
      "source": [
        "from sklearn.metrics import classification_report\n",
        "print(classification_report(y_test, np.around(predictions, decimals=0).argmax(axis=1), target_names=['Positive', 'Neutral', 'Negative']))"
      ]
    },
    {
      "cell_type": "markdown",
      "metadata": {
        "id": "37p1yN134rTr"
      },
      "source": [
        "Confusion Matrix"
      ]
    },
    {
      "cell_type": "code",
      "execution_count": null,
      "metadata": {
        "colab": {
          "base_uri": "https://localhost:8080/",
          "height": 549
        },
        "id": "7doBIS8LVPBO",
        "outputId": "75a6ad30-845c-436d-fbcb-e552046ee9bc"
      },
      "outputs": [
        {
          "output_type": "stream",
          "name": "stderr",
          "text": [
            "<ipython-input-29-ed286f56bf55>:8: FutureWarning: Support for multi-dimensional indexing (e.g. `obj[:, None]`) is deprecated and will be removed in a future version.  Convert to a numpy array before indexing instead.\n",
            "  conf_matrix = conf_matrix.astype('float') / conf_matrix.sum(axis=1)[:, np.newaxis]\n"
          ]
        },
        {
          "output_type": "execute_result",
          "data": {
            "text/plain": [
              "Text(0.5, 23.52222222222222, 'Prediction')"
            ]
          },
          "metadata": {},
          "execution_count": 29
        },
        {
          "output_type": "display_data",
          "data": {
            "text/plain": [
              "<Figure size 640x480 with 2 Axes>"
            ],
            "image/png": "[encoded data removed]"
          },
          "metadata": {}
        }
      ],
      "source": [
        "import seaborn as sns\n",
        "from sklearn.metrics import confusion_matrix\n",
        "import numpy as np\n",
        "\n",
        "matrix = confusion_matrix(y_test, np.around(predictions, decimals=0).argmax(axis=1))\n",
        "conf_matrix = pd.DataFrame(matrix, index = ['Positive','Neutral','Negative'],columns = ['Positive','Neutral','Negative'])\n",
        "#Normalizing\n",
        "conf_matrix = conf_matrix.astype('float') / conf_matrix.sum(axis=1)[:, np.newaxis]\n",
        "ax = sns.heatmap(conf_matrix, annot=True, annot_kws={\"size\": 15}, cmap='Blues')\n",
        "ax.set_ylabel(\"True Label\", fontsize=14, labelpad=20)\n",
        "ax.set_xlabel(\"Prediction\", fontsize=14, labelpad=20)\n"
      ]
    },
    {
      "cell_type": "markdown",
      "metadata": {
        "id": "117-22IhRAkj"
      },
      "source": [
        "Saving Model"
      ]
    },
    {
      "cell_type": "code",
      "execution_count": null,
      "metadata": {
        "id": "4Fhaerj4lez5",
        "colab": {
          "base_uri": "https://localhost:8080/"
        },
        "outputId": "4f5a4112-2d3d-44ef-90d9-949539e4f995"
      },
      "outputs": [
        {
          "output_type": "stream",
          "name": "stdout",
          "text": [
            "  adding: content/nlp_model.h5 (deflated 68%)\n"
          ]
        }
      ],
      "source": [
        "#Save model in Hierarchical Data Format 5 File.\n",
        "\n",
        "model.save(\"nlp_model.h5\")\n",
        "model.save(\"nlp_model\")\n",
        "\n",
        "!zip -r /content/nlp_model.zip /content/nlp_model.h5"
      ]
    },
    {
      "cell_type": "code",
      "source": [
        "from google.colab import files\n",
        "files.download(\"nlp_model.zip\")"
      ],
      "metadata": {
        "colab": {
          "base_uri": "https://localhost:8080/",
          "height": 34
        },
        "id": "6pyNAWDqKyLR",
        "outputId": "dd673a78-4b86-42f9-b77b-3443e0f3f6d0"
      },
      "execution_count": null,
      "outputs": [
        {
          "output_type": "display_data",
          "data": {
            "text/plain": [
              "<IPython.core.display.Javascript object>"
            ],
            "application/javascript": [
              "\n",
              "    async function download(id, filename, size) {\n",
              "      if (!google.colab.kernel.accessAllowed) {\n",
              "        return;\n",
              "      }\n",
              "      const div = document.createElement('div');\n",
              "      const label = document.createElement('label');\n",
              "      label.textContent = `Downloading \"${filename}\": `;\n",
              "      div.appendChild(label);\n",
              "      const progress = document.createElement('progress');\n",
              "      progress.max = size;\n",
              "      div.appendChild(progress);\n",
              "      document.body.appendChild(div);\n",
              "\n",
              "      const buffers = [];\n",
              "      let downloaded = 0;\n",
              "\n",
              "      const channel = await google.colab.kernel.comms.open(id);\n",
              "      // Send a message to notify the kernel that we're ready.\n",
              "      channel.send({})\n",
              "\n",
              "      for await (const message of channel.messages) {\n",
              "        // Send a message to notify the kernel that we're ready.\n",
              "        channel.send({})\n",
              "        if (message.buffers) {\n",
              "          for (const buffer of message.buffers) {\n",
              "            buffers.push(buffer);\n",
              "            downloaded += buffer.byteLength;\n",
              "            progress.value = downloaded;\n",
              "          }\n",
              "        }\n",
              "      }\n",
              "      const blob = new Blob(buffers, {type: 'application/binary'});\n",
              "      const a = document.createElement('a');\n",
              "      a.href = window.URL.createObjectURL(blob);\n",
              "      a.download = filename;\n",
              "      div.appendChild(a);\n",
              "      a.click();\n",
              "      div.remove();\n",
              "    }\n",
              "  "
            ]
          },
          "metadata": {}
        },
        {
          "output_type": "display_data",
          "data": {
            "text/plain": [
              "<IPython.core.display.Javascript object>"
            ],
            "application/javascript": [
              "download(\"download_35ad32bc-29ee-49f5-b4ae-7ffdbd827c42\", \"nlp_model.zip\", 436210397)"
            ]
          },
          "metadata": {}
        }
      ]
    },
    {
      "cell_type": "code",
      "execution_count": null,
      "metadata": {
        "colab": {
          "base_uri": "https://localhost:8080/"
        },
        "id": "UFVDUHd3mSKm",
        "outputId": "400532dd-6ee5-4de2-99ec-9405ab0e5a79"
      },
      "outputs": [
        {
          "output_type": "stream",
          "name": "stdout",
          "text": [
            "Model file saved to Google Drive.\n"
          ]
        }
      ],
      "source": [
        "# Import the required libraries\n",
        "from pydrive.auth import GoogleAuth\n",
        "from pydrive.drive import GoogleDrive\n",
        "from google.colab import auth\n",
        "from oauth2client.client import GoogleCredentials\n",
        "\n",
        "# Authenticate and create the PyDrive client\n",
        "auth.authenticate_user()\n",
        "gauth = GoogleAuth()\n",
        "gauth.credentials = GoogleCredentials.get_application_default()\n",
        "drive = GoogleDrive(gauth)\n",
        "\n",
        "# Define the file ID and destination path\n",
        "file_id = \"1yWbvg1gVbSYvlFXahJkeBjHtfNAfwfJG\"\n",
        "destination_path = \"/content/nlp_model.h5\"\n",
        "\n",
        "# Download the file from Google Drive\n",
        "downloaded_file = drive.CreateFile({'id': file_id})\n",
        "downloaded_file.GetContentFile(destination_path)\n",
        "\n",
        "# Print a success message\n",
        "print(\"Model file saved to Google Drive.\")\n"
      ]
    },
    {
      "cell_type": "code",
      "execution_count": null,
      "metadata": {
        "colab": {
          "base_uri": "https://localhost:8080/"
        },
        "id": "2n2x-7jPnVKQ",
        "outputId": "91ca5380-7d4f-41d1-c171-4ed6003c976c"
      },
      "outputs": [
        {
          "output_type": "stream",
          "name": "stdout",
          "text": [
            "File saved successfully.\n"
          ]
        }
      ],
      "source": [
        "import os\n",
        "\n",
        "# Check if the file exists in the destination path\n",
        "if os.path.isfile(destination_path):\n",
        "    print(\"File saved successfully.\")\n",
        "else:\n",
        "    print(\"File download failed.\")"
      ]
    }
  ],
  "metadata": {
    "accelerator": "GPU",
    "colab": {
      "provenance": []
    },
    "kernelspec": {
      "display_name": "Python 3",
      "name": "python3"
    },
    "language_info": {
      "codemirror_mode": {
        "name": "ipython",
        "version": 3
      },
      "file_extension": ".py",
      "mimetype": "text/x-python",
      "name": "python",
      "nbconvert_exporter": "python",
      "pygments_lexer": "ipython3",
      "version": "3.10.6"
    },
    "vscode": {
      "interpreter": {
        "hash": "107d7b120a5b68773a87d4067e673630b35702e55ebab3138143d08b1c4d7cbc"
      }
    }
  },
  "nbformat": 4,
  "nbformat_minor": 0
}